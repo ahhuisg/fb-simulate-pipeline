{
 "cells": [
  {
   "cell_type": "code",
   "execution_count": 1,
   "metadata": {},
   "outputs": [
    {
     "name": "stdout",
     "output_type": "stream",
     "text": [
      "/Users/gxav/Documents/SIGIR2021/workspace\n"
     ]
    }
   ],
   "source": [
    "%cd \"/Users/gxav/Documents/SIGIR2021/workspace\""
   ]
  },
  {
   "cell_type": "code",
   "execution_count": 2,
   "metadata": {},
   "outputs": [],
   "source": [
    "import pandas as pd\n",
    "import datetime\n",
    "import numpy as np"
   ]
  },
  {
   "cell_type": "markdown",
   "metadata": {},
   "source": [
    "### Set simulation parameters"
   ]
  },
  {
   "cell_type": "code",
   "execution_count": 23,
   "metadata": {},
   "outputs": [],
   "source": [
    "number_customers = 10000\n",
    "first_sessions_simu_period = (datetime.datetime(2015, 1, 1), datetime.datetime(2025, 1, 1))\n",
    "# Parameters of the Negative Binomiale distributions from which\n",
    "## the number of sessions is drawn for each customer\n",
    "## the average days between sessions is drawn for each customer\n",
    "NB_params_number_of_sessions = (4, 0.1)\n",
    "NB_params_avg_days_between_sessions = (1.5, 0.1)"
   ]
  },
  {
   "cell_type": "code",
   "execution_count": 24,
   "metadata": {},
   "outputs": [],
   "source": [
    "first_sessions_simu_period_ms = (\n",
    "    int(round(first_sessions_simu_period[0].timestamp() * 1000)),\n",
    "    int(round(first_sessions_simu_period[1].timestamp() * 1000))\n",
    ")"
   ]
  },
  {
   "cell_type": "markdown",
   "metadata": {},
   "source": [
    "### Use SIGIR2021 data as browsing events distribution for our simulation\n",
    "#### https://github.com/coveooss/SIGIR-ecom-data-challenge\n",
    "#### The file browsing_train.csv contains almost 5M anonymized shopping sessions\n",
    "#### Each row corresponds to a browsing event in a session, containing session and timestamp information, as well as (hashed) details on the interaction (was it purchase or a detail event? Was it a simple pageview or a specific product action?)"
   ]
  },
  {
   "cell_type": "code",
   "execution_count": 5,
   "metadata": {},
   "outputs": [],
   "source": [
    "browsing = pd.read_csv(\"browsing_train.csv\")"
   ]
  },
  {
   "cell_type": "code",
   "execution_count": 6,
   "metadata": {},
   "outputs": [
    {
     "name": "stdout",
     "output_type": "stream",
     "text": [
      "<class 'pandas.core.frame.DataFrame'>\n",
      "RangeIndex: 36079307 entries, 0 to 36079306\n",
      "Data columns (total 6 columns):\n",
      " #   Column                     Dtype \n",
      "---  ------                     ----- \n",
      " 0   session_id_hash            object\n",
      " 1   event_type                 object\n",
      " 2   product_action             object\n",
      " 3   product_sku_hash           object\n",
      " 4   server_timestamp_epoch_ms  int64 \n",
      " 5   hashed_url                 object\n",
      "dtypes: int64(1), object(5)\n",
      "memory usage: 1.6+ GB\n"
     ]
    }
   ],
   "source": [
    "browsing.info()"
   ]
  },
  {
   "cell_type": "code",
   "execution_count": 7,
   "metadata": {},
   "outputs": [
    {
     "name": "stdout",
     "output_type": "stream",
     "text": [
      "2019-01-15 13:02:44.513000 2019-04-15 11:59:58.560000\n"
     ]
    }
   ],
   "source": [
    "print(\n",
    "    datetime.datetime.fromtimestamp(browsing.server_timestamp_epoch_ms.min()/1000),\n",
    "    datetime.datetime.fromtimestamp(browsing.server_timestamp_epoch_ms.max()/1000)\n",
    ")"
   ]
  },
  {
   "cell_type": "code",
   "execution_count": 8,
   "metadata": {},
   "outputs": [
    {
     "data": {
      "text/plain": [
       "4934699"
      ]
     },
     "execution_count": 8,
     "metadata": {},
     "output_type": "execute_result"
    }
   ],
   "source": [
    "browsing.session_id_hash.nunique()"
   ]
  },
  {
   "cell_type": "code",
   "execution_count": 9,
   "metadata": {},
   "outputs": [],
   "source": [
    "browsing_session_ids = browsing.session_id_hash.unique()"
   ]
  },
  {
   "cell_type": "code",
   "execution_count": 10,
   "metadata": {},
   "outputs": [],
   "source": [
    "browsing_session_first_timestamp = browsing.groupby('session_id_hash').server_timestamp_epoch_ms.agg('min')"
   ]
  },
  {
   "cell_type": "markdown",
   "metadata": {},
   "source": [
    "### Create customers info randomly \n",
    "#### on first session, number of sessions, average days between sessions and sessions time"
   ]
  },
  {
   "cell_type": "code",
   "execution_count": 25,
   "metadata": {},
   "outputs": [],
   "source": [
    "cust_simu = pd.DataFrame({\n",
    "    'cust_id': range(number_customers),\n",
    "    'first_session': np.random.uniform(\n",
    "        first_sessions_simu_period_ms[0],\n",
    "        first_sessions_simu_period_ms[1],\n",
    "        number_customers\n",
    "    ).astype(int),\n",
    "    'number_sessions': np.random.negative_binomial(\n",
    "        NB_params_number_of_sessions[0],\n",
    "        NB_params_number_of_sessions[1],\n",
    "        number_customers\n",
    "    ) + 1,\n",
    "    'avg_days_between_sessions': np.random.negative_binomial(\n",
    "        NB_params_avg_days_between_sessions[0],\n",
    "        NB_params_avg_days_between_sessions[1],\n",
    "        number_customers\n",
    "    ) + 0.5,\n",
    "})"
   ]
  },
  {
   "cell_type": "code",
   "execution_count": 26,
   "metadata": {},
   "outputs": [],
   "source": [
    "def session_timestamps(X):\n",
    "    first_session = int(X.first_session)\n",
    "    number_sessions = int(X.number_sessions)\n",
    "    avg_days_between_sessions = X.avg_days_between_sessions\n",
    "    sessions = [first_session]\n",
    "    if number_sessions == 1:\n",
    "        return sessions\n",
    "    time_between_sessions = np.random.exponential(\n",
    "        avg_days_between_sessions, number_sessions - 1) * 24 * 60 * 60 * 1000\n",
    "    for i in range(number_sessions - 1):\n",
    "        sessions.append(sessions[i] + int(time_between_sessions[i]))\n",
    "    return sessions"
   ]
  },
  {
   "cell_type": "code",
   "execution_count": 27,
   "metadata": {},
   "outputs": [],
   "source": [
    "cust_simu['session_timestamps'] = cust_simu.apply(session_timestamps, axis=1)"
   ]
  },
  {
   "cell_type": "markdown",
   "metadata": {},
   "source": [
    "### Discard info not needed any more and draw randomly sessions ids from the browsing example"
   ]
  },
  {
   "cell_type": "code",
   "execution_count": 28,
   "metadata": {},
   "outputs": [],
   "source": [
    "cust_simu.drop(columns=['first_session', 'number_sessions', 'avg_days_between_sessions'], inplace=True)"
   ]
  },
  {
   "cell_type": "code",
   "execution_count": 29,
   "metadata": {},
   "outputs": [],
   "source": [
    "cust_simu = cust_simu.explode('session_timestamps')"
   ]
  },
  {
   "cell_type": "code",
   "execution_count": 30,
   "metadata": {},
   "outputs": [],
   "source": [
    "cust_simu['session_timestamps'] = cust_simu['session_timestamps'].astype(int)"
   ]
  },
  {
   "cell_type": "code",
   "execution_count": 31,
   "metadata": {},
   "outputs": [],
   "source": [
    "cust_simu['session_id_hash'] = np.random.choice(browsing_session_ids, len(cust_simu))"
   ]
  },
  {
   "cell_type": "markdown",
   "metadata": {},
   "source": [
    "#### Compute adjustments we will need to apply to the browsing timestamps "
   ]
  },
  {
   "cell_type": "code",
   "execution_count": 32,
   "metadata": {},
   "outputs": [],
   "source": [
    "cust_simu['timestamp_adjustment'] = \\\n",
    "    cust_simu['session_timestamps'] - browsing_session_first_timestamp[cust_simu['session_id_hash']].values"
   ]
  },
  {
   "cell_type": "markdown",
   "metadata": {},
   "source": [
    "### Create final log data\n",
    "#### by merging sessions info availabe in the browsing example (and adjusting the timestamps to our simu)"
   ]
  },
  {
   "cell_type": "code",
   "execution_count": 33,
   "metadata": {},
   "outputs": [],
   "source": [
    "cust_simu = pd.merge(cust_simu, browsing, how='left', on='session_id_hash')"
   ]
  },
  {
   "cell_type": "code",
   "execution_count": 34,
   "metadata": {},
   "outputs": [],
   "source": [
    "cust_simu['server_timestamp_epoch_ms'] += cust_simu['timestamp_adjustment']"
   ]
  },
  {
   "cell_type": "code",
   "execution_count": 35,
   "metadata": {},
   "outputs": [],
   "source": [
    "cust_simu.drop(columns=['session_timestamps', 'timestamp_adjustment'], inplace=True)"
   ]
  },
  {
   "cell_type": "code",
   "execution_count": 40,
   "metadata": {},
   "outputs": [],
   "source": [
    "cust_simu = cust_simu[cust_simu.server_timestamp_epoch_ms < first_sessions_simu_period_ms[1]]"
   ]
  },
  {
   "cell_type": "code",
   "execution_count": 41,
   "metadata": {},
   "outputs": [
    {
     "name": "stdout",
     "output_type": "stream",
     "text": [
      "<class 'pandas.core.frame.DataFrame'>\n",
      "Int64Index: 2480611 entries, 0 to 2723598\n",
      "Data columns (total 7 columns):\n",
      " #   Column                     Dtype \n",
      "---  ------                     ----- \n",
      " 0   cust_id                    int64 \n",
      " 1   session_id_hash            object\n",
      " 2   event_type                 object\n",
      " 3   product_action             object\n",
      " 4   product_sku_hash           object\n",
      " 5   server_timestamp_epoch_ms  int64 \n",
      " 6   hashed_url                 object\n",
      "dtypes: int64(2), object(5)\n",
      "memory usage: 151.4+ MB\n"
     ]
    }
   ],
   "source": [
    "cust_simu.info()"
   ]
  },
  {
   "cell_type": "code",
   "execution_count": 37,
   "metadata": {},
   "outputs": [
    {
     "data": {
      "text/html": [
       "<div>\n",
       "<style scoped>\n",
       "    .dataframe tbody tr th:only-of-type {\n",
       "        vertical-align: middle;\n",
       "    }\n",
       "\n",
       "    .dataframe tbody tr th {\n",
       "        vertical-align: top;\n",
       "    }\n",
       "\n",
       "    .dataframe thead th {\n",
       "        text-align: right;\n",
       "    }\n",
       "</style>\n",
       "<table border=\"1\" class=\"dataframe\">\n",
       "  <thead>\n",
       "    <tr style=\"text-align: right;\">\n",
       "      <th></th>\n",
       "      <th>cust_id</th>\n",
       "      <th>session_id_hash</th>\n",
       "      <th>event_type</th>\n",
       "      <th>product_action</th>\n",
       "      <th>product_sku_hash</th>\n",
       "      <th>server_timestamp_epoch_ms</th>\n",
       "      <th>hashed_url</th>\n",
       "    </tr>\n",
       "  </thead>\n",
       "  <tbody>\n",
       "    <tr>\n",
       "      <th>0</th>\n",
       "      <td>0</td>\n",
       "      <td>76df2656881518ce27054143af14eb2beb42ee3dfc94a9...</td>\n",
       "      <td>pageview</td>\n",
       "      <td>NaN</td>\n",
       "      <td>NaN</td>\n",
       "      <td>1702428212186</td>\n",
       "      <td>b0525e1207a512f1d3dd9de2303685ad6cfea0701d8560...</td>\n",
       "    </tr>\n",
       "    <tr>\n",
       "      <th>1</th>\n",
       "      <td>0</td>\n",
       "      <td>900992ead958a465a355e7188f203e69ce9cfb60e82ecb...</td>\n",
       "      <td>event_product</td>\n",
       "      <td>detail</td>\n",
       "      <td>f48105e564f1077da3a33e178e850453652eded75cd402...</td>\n",
       "      <td>1703212534358</td>\n",
       "      <td>d86fe175b47d2860a8f549fd14b664e89dc70e94bc6a70...</td>\n",
       "    </tr>\n",
       "    <tr>\n",
       "      <th>2</th>\n",
       "      <td>0</td>\n",
       "      <td>900992ead958a465a355e7188f203e69ce9cfb60e82ecb...</td>\n",
       "      <td>pageview</td>\n",
       "      <td>NaN</td>\n",
       "      <td>NaN</td>\n",
       "      <td>1703212534358</td>\n",
       "      <td>d86fe175b47d2860a8f549fd14b664e89dc70e94bc6a70...</td>\n",
       "    </tr>\n",
       "    <tr>\n",
       "      <th>3</th>\n",
       "      <td>0</td>\n",
       "      <td>4fd6afba89ae40bad5cc1ce8ca968648486f5a685da811...</td>\n",
       "      <td>pageview</td>\n",
       "      <td>NaN</td>\n",
       "      <td>NaN</td>\n",
       "      <td>1704180073258</td>\n",
       "      <td>f633546b2a55c2b857fa70b5bb29355d7ad9c5d280818a...</td>\n",
       "    </tr>\n",
       "    <tr>\n",
       "      <th>4</th>\n",
       "      <td>0</td>\n",
       "      <td>4fd6afba89ae40bad5cc1ce8ca968648486f5a685da811...</td>\n",
       "      <td>event_product</td>\n",
       "      <td>detail</td>\n",
       "      <td>059b2dc661874dd7d2fe86a33b75d673855eea53cc0b54...</td>\n",
       "      <td>1704180073258</td>\n",
       "      <td>f633546b2a55c2b857fa70b5bb29355d7ad9c5d280818a...</td>\n",
       "    </tr>\n",
       "    <tr>\n",
       "      <th>...</th>\n",
       "      <td>...</td>\n",
       "      <td>...</td>\n",
       "      <td>...</td>\n",
       "      <td>...</td>\n",
       "      <td>...</td>\n",
       "      <td>...</td>\n",
       "      <td>...</td>\n",
       "    </tr>\n",
       "    <tr>\n",
       "      <th>2723594</th>\n",
       "      <td>9999</td>\n",
       "      <td>a5bb728d128743ccdb557a0fabd5c35428bcab77de1973...</td>\n",
       "      <td>pageview</td>\n",
       "      <td>NaN</td>\n",
       "      <td>NaN</td>\n",
       "      <td>1705355677760</td>\n",
       "      <td>195e34e6c0b8f196ab2e677d851b8394a2b335bab4cbd0...</td>\n",
       "    </tr>\n",
       "    <tr>\n",
       "      <th>2723595</th>\n",
       "      <td>9999</td>\n",
       "      <td>a5bb728d128743ccdb557a0fabd5c35428bcab77de1973...</td>\n",
       "      <td>pageview</td>\n",
       "      <td>NaN</td>\n",
       "      <td>NaN</td>\n",
       "      <td>1705355681411</td>\n",
       "      <td>d1700644233a33681ddba8fe2074e5679b3d2f4d8699bb...</td>\n",
       "    </tr>\n",
       "    <tr>\n",
       "      <th>2723596</th>\n",
       "      <td>9999</td>\n",
       "      <td>a5bb728d128743ccdb557a0fabd5c35428bcab77de1973...</td>\n",
       "      <td>pageview</td>\n",
       "      <td>NaN</td>\n",
       "      <td>NaN</td>\n",
       "      <td>1705355691710</td>\n",
       "      <td>24835d7ce63d738e7d3fba26b102a769608f971091b558...</td>\n",
       "    </tr>\n",
       "    <tr>\n",
       "      <th>2723597</th>\n",
       "      <td>9999</td>\n",
       "      <td>a5bb728d128743ccdb557a0fabd5c35428bcab77de1973...</td>\n",
       "      <td>pageview</td>\n",
       "      <td>NaN</td>\n",
       "      <td>NaN</td>\n",
       "      <td>1705355718818</td>\n",
       "      <td>3e0d264ba8758bf5ba78e3ed04debdd280c5b24cf997af...</td>\n",
       "    </tr>\n",
       "    <tr>\n",
       "      <th>2723598</th>\n",
       "      <td>9999</td>\n",
       "      <td>a5bb728d128743ccdb557a0fabd5c35428bcab77de1973...</td>\n",
       "      <td>pageview</td>\n",
       "      <td>NaN</td>\n",
       "      <td>NaN</td>\n",
       "      <td>1705355789828</td>\n",
       "      <td>820739fe4af15c42804d2b69c5558d022dd8f430ab41ce...</td>\n",
       "    </tr>\n",
       "  </tbody>\n",
       "</table>\n",
       "<p>2723599 rows × 7 columns</p>\n",
       "</div>"
      ],
      "text/plain": [
       "         cust_id                                    session_id_hash  \\\n",
       "0              0  76df2656881518ce27054143af14eb2beb42ee3dfc94a9...   \n",
       "1              0  900992ead958a465a355e7188f203e69ce9cfb60e82ecb...   \n",
       "2              0  900992ead958a465a355e7188f203e69ce9cfb60e82ecb...   \n",
       "3              0  4fd6afba89ae40bad5cc1ce8ca968648486f5a685da811...   \n",
       "4              0  4fd6afba89ae40bad5cc1ce8ca968648486f5a685da811...   \n",
       "...          ...                                                ...   \n",
       "2723594     9999  a5bb728d128743ccdb557a0fabd5c35428bcab77de1973...   \n",
       "2723595     9999  a5bb728d128743ccdb557a0fabd5c35428bcab77de1973...   \n",
       "2723596     9999  a5bb728d128743ccdb557a0fabd5c35428bcab77de1973...   \n",
       "2723597     9999  a5bb728d128743ccdb557a0fabd5c35428bcab77de1973...   \n",
       "2723598     9999  a5bb728d128743ccdb557a0fabd5c35428bcab77de1973...   \n",
       "\n",
       "            event_type product_action  \\\n",
       "0             pageview            NaN   \n",
       "1        event_product         detail   \n",
       "2             pageview            NaN   \n",
       "3             pageview            NaN   \n",
       "4        event_product         detail   \n",
       "...                ...            ...   \n",
       "2723594       pageview            NaN   \n",
       "2723595       pageview            NaN   \n",
       "2723596       pageview            NaN   \n",
       "2723597       pageview            NaN   \n",
       "2723598       pageview            NaN   \n",
       "\n",
       "                                          product_sku_hash  \\\n",
       "0                                                      NaN   \n",
       "1        f48105e564f1077da3a33e178e850453652eded75cd402...   \n",
       "2                                                      NaN   \n",
       "3                                                      NaN   \n",
       "4        059b2dc661874dd7d2fe86a33b75d673855eea53cc0b54...   \n",
       "...                                                    ...   \n",
       "2723594                                                NaN   \n",
       "2723595                                                NaN   \n",
       "2723596                                                NaN   \n",
       "2723597                                                NaN   \n",
       "2723598                                                NaN   \n",
       "\n",
       "         server_timestamp_epoch_ms  \\\n",
       "0                    1702428212186   \n",
       "1                    1703212534358   \n",
       "2                    1703212534358   \n",
       "3                    1704180073258   \n",
       "4                    1704180073258   \n",
       "...                            ...   \n",
       "2723594              1705355677760   \n",
       "2723595              1705355681411   \n",
       "2723596              1705355691710   \n",
       "2723597              1705355718818   \n",
       "2723598              1705355789828   \n",
       "\n",
       "                                                hashed_url  \n",
       "0        b0525e1207a512f1d3dd9de2303685ad6cfea0701d8560...  \n",
       "1        d86fe175b47d2860a8f549fd14b664e89dc70e94bc6a70...  \n",
       "2        d86fe175b47d2860a8f549fd14b664e89dc70e94bc6a70...  \n",
       "3        f633546b2a55c2b857fa70b5bb29355d7ad9c5d280818a...  \n",
       "4        f633546b2a55c2b857fa70b5bb29355d7ad9c5d280818a...  \n",
       "...                                                    ...  \n",
       "2723594  195e34e6c0b8f196ab2e677d851b8394a2b335bab4cbd0...  \n",
       "2723595  d1700644233a33681ddba8fe2074e5679b3d2f4d8699bb...  \n",
       "2723596  24835d7ce63d738e7d3fba26b102a769608f971091b558...  \n",
       "2723597  3e0d264ba8758bf5ba78e3ed04debdd280c5b24cf997af...  \n",
       "2723598  820739fe4af15c42804d2b69c5558d022dd8f430ab41ce...  \n",
       "\n",
       "[2723599 rows x 7 columns]"
      ]
     },
     "execution_count": 37,
     "metadata": {},
     "output_type": "execute_result"
    }
   ],
   "source": [
    "cust_simu"
   ]
  },
  {
   "cell_type": "code",
   "execution_count": 42,
   "metadata": {},
   "outputs": [
    {
     "name": "stdout",
     "output_type": "stream",
     "text": [
      "2015-01-01 04:54:59.654000 2024-12-31 23:56:06.349000\n"
     ]
    }
   ],
   "source": [
    "print(\n",
    "    datetime.datetime.fromtimestamp(cust_simu.server_timestamp_epoch_ms.min()/1000),\n",
    "    datetime.datetime.fromtimestamp(cust_simu.server_timestamp_epoch_ms.max()/1000)\n",
    ")"
   ]
  },
  {
   "cell_type": "code",
   "execution_count": null,
   "metadata": {},
   "outputs": [],
   "source": []
  }
 ],
 "metadata": {
  "kernelspec": {
   "display_name": "Python 3 (ipykernel)",
   "language": "python",
   "name": "python3"
  },
  "language_info": {
   "codemirror_mode": {
    "name": "ipython",
    "version": 3
   },
   "file_extension": ".py",
   "mimetype": "text/x-python",
   "name": "python",
   "nbconvert_exporter": "python",
   "pygments_lexer": "ipython3",
   "version": "3.7.11"
  }
 },
 "nbformat": 4,
 "nbformat_minor": 4
}
