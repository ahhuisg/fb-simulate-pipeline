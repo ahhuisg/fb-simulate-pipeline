{
 "cells": [
  {
   "cell_type": "code",
   "execution_count": 1,
   "id": "42e1b219",
   "metadata": {},
   "outputs": [],
   "source": [
    "import pandas as pd\n",
    "import prefect\n",
    "from prefect import task, Flow, Task"
   ]
  },
  {
   "cell_type": "code",
   "execution_count": 2,
   "id": "7795060e",
   "metadata": {},
   "outputs": [],
   "source": [
    "class BaseTask(Task):\n",
    "    def __init__(self, name):\n",
    "        super().__init__(name=name)\n",
    "\n",
    "class PlusOneTask(BaseTask):\n",
    "    def __init__(self, x, name=None):\n",
    "        self._x = x\n",
    "        super().__init__(name=name)\n",
    "    \n",
    "    def run(self):\n",
    "        return self._x + 1\n",
    "\n",
    "class MultipleTask(BaseTask):\n",
    "    def __init__(self, multiple, name=None):\n",
    "        self._multiple = multiple\n",
    "        super().__init__(name=name)\n",
    "\n",
    "    def run(self, x1, x2):\n",
    "        return (x1 + x2) * self._multiple"
   ]
  },
  {
   "cell_type": "code",
   "execution_count": 3,
   "id": "762ad488",
   "metadata": {},
   "outputs": [],
   "source": [
    "class SimulatePipeline(object):\n",
    "    \n",
    "    def __init__(self, name):\n",
    "        self._name = name\n",
    "        self._flow = Flow(self._name)\n",
    "        self._state = None\n",
    "        self._tasks = {}\n",
    "    \n",
    "    def execute(self):\n",
    "        self._state = self._flow.run()  \n",
    "    \n",
    "    def register(self, task_instance, depends=None, depends_with_data=None):      \n",
    "\n",
    "        self._tasks[task_instance.name] = task_instance\n",
    "        self._flow.add_task(task_instance)\n",
    "        \n",
    "        if depends:\n",
    "            if not isinstance(depends, list):\n",
    "                raise RuntimeError('depends must be a list of upstream task ids')\n",
    "            \n",
    "            depends_tasks = []\n",
    "            \n",
    "            for task in depends:\n",
    "                task_name = task.name\n",
    "                if task_name not in self._tasks:\n",
    "                    raise ValueError(f'Invalide task_id {task_name}')\n",
    "                depends_tasks.append(self._tasks[task_name])\n",
    "                \n",
    "            self._flow.set_dependencies(task_instance, upstream_tasks=depends_tasks)\n",
    "\n",
    "        if depends_with_data:\n",
    "            if not isinstance(depends_with_data, dict):\n",
    "                raise RuntimeError('depends_with_data must be a dictionary for mapping argument names to upstream task outputs')            \n",
    "        \n",
    "            depends_tasks = {}\n",
    "            \n",
    "            for arg, task in depends_with_data.items():\n",
    "                task_name = task.name\n",
    "                if task_name not in self._tasks:\n",
    "                    raise ValueError(f'Invalide task_id {task_name}')\n",
    "                    \n",
    "                depends_tasks[arg] = self._tasks[task_name]\n",
    "            \n",
    "            self._flow.set_dependencies(task_instance, keyword_tasks=depends_tasks)\n",
    "    \n",
    "    def get_output(self, task_name):\n",
    "        return self._state.result[pipeline._tasks[task_name]]._result.value\n",
    "    \n",
    "    def visualize(self):\n",
    "        return self._flow.visualize()     "
   ]
  },
  {
   "cell_type": "code",
   "execution_count": 4,
   "id": "3b67700a",
   "metadata": {},
   "outputs": [],
   "source": [
    "pipeline = SimulatePipeline('Test Run')\n",
    "\n",
    "task1 = PlusOneTask(name='plusonetask1', x=100)\n",
    "pipeline.register(task1)\n",
    "\n",
    "task2 = PlusOneTask(x=200)\n",
    "pipeline.register(task2)\n",
    "\n",
    "task3 = MultipleTask(name='multiple', multiple=3)\n",
    "pipeline.register(task3, depends_with_data={'x1': task1, 'x2': task2})"
   ]
  },
  {
   "cell_type": "code",
   "execution_count": 5,
   "id": "30d39092",
   "metadata": {},
   "outputs": [
    {
     "name": "stdout",
     "output_type": "stream",
     "text": [
      "[2022-03-27 16:08:24+0800] INFO - prefect.FlowRunner | Beginning Flow run for 'Test Run'\n",
      "[2022-03-27 16:08:24+0800] INFO - prefect.TaskRunner | Task 'plusonetask1': Starting task run...\n",
      "[2022-03-27 16:08:24+0800] INFO - prefect.TaskRunner | Task 'plusonetask1': Finished task run for task with final state: 'Success'\n",
      "[2022-03-27 16:08:24+0800] INFO - prefect.TaskRunner | Task 'PlusOneTask': Starting task run...\n",
      "[2022-03-27 16:08:24+0800] INFO - prefect.TaskRunner | Task 'PlusOneTask': Finished task run for task with final state: 'Success'\n",
      "[2022-03-27 16:08:24+0800] INFO - prefect.TaskRunner | Task 'multiple': Starting task run...\n",
      "[2022-03-27 16:08:24+0800] INFO - prefect.TaskRunner | Task 'multiple': Finished task run for task with final state: 'Success'\n",
      "[2022-03-27 16:08:24+0800] INFO - prefect.FlowRunner | Flow run SUCCESS: all reference tasks succeeded\n"
     ]
    }
   ],
   "source": [
    "pipeline.execute()"
   ]
  },
  {
   "cell_type": "code",
   "execution_count": 6,
   "id": "f0996342",
   "metadata": {},
   "outputs": [
    {
     "data": {
      "image/svg+xml": [
       "<?xml version=\"1.0\" encoding=\"UTF-8\" standalone=\"no\"?>\n",
       "<!DOCTYPE svg PUBLIC \"-//W3C//DTD SVG 1.1//EN\"\n",
       " \"http://www.w3.org/Graphics/SVG/1.1/DTD/svg11.dtd\">\n",
       "<!-- Generated by graphviz version 3.0.0 (20220226.1711)\n",
       " -->\n",
       "<!-- Pages: 1 -->\n",
       "<svg width=\"254pt\" height=\"131pt\"\n",
       " viewBox=\"0.00 0.00 253.74 131.00\" xmlns=\"http://www.w3.org/2000/svg\" xmlns:xlink=\"http://www.w3.org/1999/xlink\">\n",
       "<g id=\"graph0\" class=\"graph\" transform=\"scale(1 1) rotate(0) translate(4 127)\">\n",
       "<polygon fill=\"white\" stroke=\"transparent\" points=\"-4,4 -4,-127 249.74,-127 249.74,4 -4,4\"/>\n",
       "<!-- 140492409385488 -->\n",
       "<g id=\"node1\" class=\"node\">\n",
       "<title>140492409385488</title>\n",
       "<ellipse fill=\"none\" stroke=\"black\" cx=\"56.54\" cy=\"-105\" rx=\"56.59\" ry=\"18\"/>\n",
       "<text text-anchor=\"middle\" x=\"56.54\" y=\"-101.3\" font-family=\"Times,serif\" font-size=\"14.00\">plusonetask1</text>\n",
       "</g>\n",
       "<!-- 140492409342864 -->\n",
       "<g id=\"node3\" class=\"node\">\n",
       "<title>140492409342864</title>\n",
       "<ellipse fill=\"none\" stroke=\"black\" cx=\"122.54\" cy=\"-18\" rx=\"40.09\" ry=\"18\"/>\n",
       "<text text-anchor=\"middle\" x=\"122.54\" y=\"-14.3\" font-family=\"Times,serif\" font-size=\"14.00\">multiple</text>\n",
       "</g>\n",
       "<!-- 140492409385488&#45;&gt;140492409342864 -->\n",
       "<g id=\"edge2\" class=\"edge\">\n",
       "<title>140492409385488&#45;&gt;140492409342864</title>\n",
       "<path fill=\"none\" stroke=\"black\" d=\"M69.58,-87.21C79.29,-74.71 92.69,-57.45 103.58,-43.43\"/>\n",
       "<polygon fill=\"black\" stroke=\"black\" points=\"106.61,-45.23 109.98,-35.18 101.08,-40.93 106.61,-45.23\"/>\n",
       "<text text-anchor=\"middle\" x=\"100.54\" y=\"-57.8\" font-family=\"Times,serif\" font-size=\"14.00\">x1</text>\n",
       "</g>\n",
       "<!-- 140492144531792 -->\n",
       "<g id=\"node2\" class=\"node\">\n",
       "<title>140492144531792</title>\n",
       "<ellipse fill=\"none\" stroke=\"black\" cx=\"188.54\" cy=\"-105\" rx=\"57.39\" ry=\"18\"/>\n",
       "<text text-anchor=\"middle\" x=\"188.54\" y=\"-101.3\" font-family=\"Times,serif\" font-size=\"14.00\">PlusOneTask</text>\n",
       "</g>\n",
       "<!-- 140492144531792&#45;&gt;140492409342864 -->\n",
       "<g id=\"edge1\" class=\"edge\">\n",
       "<title>140492144531792&#45;&gt;140492409342864</title>\n",
       "<path fill=\"none\" stroke=\"black\" d=\"M175.51,-87.21C165.8,-74.71 152.4,-57.45 141.51,-43.43\"/>\n",
       "<polygon fill=\"black\" stroke=\"black\" points=\"144.01,-40.93 135.11,-35.18 138.48,-45.23 144.01,-40.93\"/>\n",
       "<text text-anchor=\"middle\" x=\"165.54\" y=\"-57.8\" font-family=\"Times,serif\" font-size=\"14.00\">x2</text>\n",
       "</g>\n",
       "</g>\n",
       "</svg>\n"
      ],
      "text/plain": [
       "<graphviz.graphs.Digraph at 0x7fc6f0417d90>"
      ]
     },
     "execution_count": 6,
     "metadata": {},
     "output_type": "execute_result"
    }
   ],
   "source": [
    "pipeline.visualize()"
   ]
  },
  {
   "cell_type": "code",
   "execution_count": 7,
   "id": "77fb937b",
   "metadata": {},
   "outputs": [
    {
     "name": "stdout",
     "output_type": "stream",
     "text": [
      "<Task: plusonetask1> 101\n",
      "<Task: PlusOneTask> 201\n",
      "<Task: multiple> 906\n"
     ]
    }
   ],
   "source": [
    "for key, r in pipeline._state.result.items():\n",
    "    print(key, r._result.value)"
   ]
  },
  {
   "cell_type": "code",
   "execution_count": 8,
   "id": "9857d6cc",
   "metadata": {},
   "outputs": [
    {
     "data": {
      "text/plain": [
       "{'plusonetask1': <Task: plusonetask1>,\n",
       " 'PlusOneTask': <Task: PlusOneTask>,\n",
       " 'multiple': <Task: multiple>}"
      ]
     },
     "execution_count": 8,
     "metadata": {},
     "output_type": "execute_result"
    }
   ],
   "source": [
    "pipeline._tasks"
   ]
  },
  {
   "cell_type": "code",
   "execution_count": 9,
   "id": "0b804c38",
   "metadata": {},
   "outputs": [
    {
     "data": {
      "text/plain": [
       "201"
      ]
     },
     "execution_count": 9,
     "metadata": {},
     "output_type": "execute_result"
    }
   ],
   "source": [
    "pipeline.get_output('PlusOneTask')"
   ]
  },
  {
   "cell_type": "code",
   "execution_count": null,
   "id": "6d08942e",
   "metadata": {},
   "outputs": [],
   "source": []
  }
 ],
 "metadata": {
  "kernelspec": {
   "display_name": "Python 3 (ipykernel)",
   "language": "python",
   "name": "python3"
  },
  "language_info": {
   "codemirror_mode": {
    "name": "ipython",
    "version": 3
   },
   "file_extension": ".py",
   "mimetype": "text/x-python",
   "name": "python",
   "nbconvert_exporter": "python",
   "pygments_lexer": "ipython3",
   "version": "3.7.11"
  }
 },
 "nbformat": 4,
 "nbformat_minor": 5
}
